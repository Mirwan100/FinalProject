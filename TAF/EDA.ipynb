{
 "cells": [
  {
   "cell_type": "code",
   "execution_count": 1,
   "metadata": {},
   "outputs": [],
   "source": [
    "\n",
    "import numpy as np\n",
    "import pandas as pd\n",
    "import matplotlib.pyplot as plt\n",
    "import seaborn as sns\n",
    "from sklearn.preprocessing import OneHotEncoder\n",
    "# from feature_engine.categorical_encoders import RareLabelCategoricalEncoder\n",
    "from sklearn import preprocessing\n",
    "# from geopy import geocoders \n",
    "# from geopy.geocoders import Nominatim\n",
    "\n",
    "%matplotlib inline"
   ]
  },
  {
   "cell_type": "code",
   "execution_count": 2,
   "metadata": {},
   "outputs": [],
   "source": [
    "pd.set_option('display.max_columns', None)"
   ]
  },
  {
   "cell_type": "code",
   "execution_count": 3,
   "metadata": {
    "scrolled": false
   },
   "outputs": [
    {
     "data": {
      "text/html": [
       "<div>\n",
       "<style scoped>\n",
       "    .dataframe tbody tr th:only-of-type {\n",
       "        vertical-align: middle;\n",
       "    }\n",
       "\n",
       "    .dataframe tbody tr th {\n",
       "        vertical-align: top;\n",
       "    }\n",
       "\n",
       "    .dataframe thead th {\n",
       "        text-align: right;\n",
       "    }\n",
       "</style>\n",
       "<table border=\"1\" class=\"dataframe\">\n",
       "  <thead>\n",
       "    <tr style=\"text-align: right;\">\n",
       "      <th></th>\n",
       "      <th>id</th>\n",
       "      <th>title</th>\n",
       "      <th>band</th>\n",
       "      <th>model</th>\n",
       "      <th>variant</th>\n",
       "      <th>fuelType</th>\n",
       "      <th>bodytype</th>\n",
       "      <th>tramsmission</th>\n",
       "      <th>seating</th>\n",
       "      <th>year</th>\n",
       "      <th>milage</th>\n",
       "      <th>color</th>\n",
       "      <th>image</th>\n",
       "      <th>place</th>\n",
       "      <th>price</th>\n",
       "    </tr>\n",
       "  </thead>\n",
       "  <tbody>\n",
       "    <tr>\n",
       "      <th>0</th>\n",
       "      <td>50318</td>\n",
       "      <td>2010 Nissan X-Trail 2.0 T31 SUV</td>\n",
       "      <td>Nissan</td>\n",
       "      <td>X-Trail</td>\n",
       "      <td>T31</td>\n",
       "      <td>Pertamax</td>\n",
       "      <td>SUV</td>\n",
       "      <td>Manual</td>\n",
       "      <td>5</td>\n",
       "      <td>2010</td>\n",
       "      <td>250</td>\n",
       "      <td>Silver</td>\n",
       "      <td>https://img4.icarcdn.com/2200806/thumb-l_used-...</td>\n",
       "      <td>Wonogiri</td>\n",
       "      <td>115000000</td>\n",
       "    </tr>\n",
       "    <tr>\n",
       "      <th>1</th>\n",
       "      <td>19882</td>\n",
       "      <td>2012 Mazda 2 1.5 S Sedan</td>\n",
       "      <td>Mazda</td>\n",
       "      <td>2</td>\n",
       "      <td>S</td>\n",
       "      <td>Pertamax</td>\n",
       "      <td>Sedan</td>\n",
       "      <td>Manual</td>\n",
       "      <td>5</td>\n",
       "      <td>2012</td>\n",
       "      <td>67500</td>\n",
       "      <td>Hijau</td>\n",
       "      <td>https://img2.icarcdn.com/8715916/thumb-l_used-...</td>\n",
       "      <td>Surabaya</td>\n",
       "      <td>105000000</td>\n",
       "    </tr>\n",
       "    <tr>\n",
       "      <th>2</th>\n",
       "      <td>29381</td>\n",
       "      <td>2014 Honda Odyssey 2.4 Prestige 2.4 MPV</td>\n",
       "      <td>Honda</td>\n",
       "      <td>Odyssey</td>\n",
       "      <td>Prestige 2.4</td>\n",
       "      <td>Pertamax</td>\n",
       "      <td>MPV</td>\n",
       "      <td>Automatic</td>\n",
       "      <td>6</td>\n",
       "      <td>2014</td>\n",
       "      <td>64000</td>\n",
       "      <td>Hitam</td>\n",
       "      <td>https://img3.icarcdn.com/6198256/thumb-l_used-...</td>\n",
       "      <td>Jakarta Selatan</td>\n",
       "      <td>355000000</td>\n",
       "    </tr>\n",
       "    <tr>\n",
       "      <th>3</th>\n",
       "      <td>22517</td>\n",
       "      <td>2016 Mitsubishi Pajero Sport 2.5 Dakar SUV</td>\n",
       "      <td>Mitsubishi</td>\n",
       "      <td>Pajero Sport</td>\n",
       "      <td>Dakar</td>\n",
       "      <td>Solar</td>\n",
       "      <td>SUV</td>\n",
       "      <td>Automatic</td>\n",
       "      <td>7</td>\n",
       "      <td>2016</td>\n",
       "      <td>17500</td>\n",
       "      <td>Hitam</td>\n",
       "      <td>https://img5.icarcdn.com/1648605/thumb-l_used-...</td>\n",
       "      <td>Bandung</td>\n",
       "      <td>455000000</td>\n",
       "    </tr>\n",
       "    <tr>\n",
       "      <th>4</th>\n",
       "      <td>7046</td>\n",
       "      <td>2008 Mercedes-Benz C200K 1.8 Kompressor Sedan</td>\n",
       "      <td>Mercedes-Benz</td>\n",
       "      <td>C200K</td>\n",
       "      <td>Kompressor</td>\n",
       "      <td>Pertamax</td>\n",
       "      <td>Sedan</td>\n",
       "      <td>Automatic</td>\n",
       "      <td>5</td>\n",
       "      <td>2008</td>\n",
       "      <td>50000</td>\n",
       "      <td>Silver</td>\n",
       "      <td>https://img5.icarcdn.com/1269795/thumb-l_used-...</td>\n",
       "      <td>Jakarta Utara</td>\n",
       "      <td>162000000</td>\n",
       "    </tr>\n",
       "  </tbody>\n",
       "</table>\n",
       "</div>"
      ],
      "text/plain": [
       "      id                                          title           band  \\\n",
       "0  50318                2010 Nissan X-Trail 2.0 T31 SUV         Nissan   \n",
       "1  19882                       2012 Mazda 2 1.5 S Sedan          Mazda   \n",
       "2  29381        2014 Honda Odyssey 2.4 Prestige 2.4 MPV          Honda   \n",
       "3  22517     2016 Mitsubishi Pajero Sport 2.5 Dakar SUV     Mitsubishi   \n",
       "4   7046  2008 Mercedes-Benz C200K 1.8 Kompressor Sedan  Mercedes-Benz   \n",
       "\n",
       "          model       variant  fuelType bodytype tramsmission seating  year  \\\n",
       "0       X-Trail           T31  Pertamax      SUV       Manual       5  2010   \n",
       "1             2             S  Pertamax    Sedan       Manual       5  2012   \n",
       "2       Odyssey  Prestige 2.4  Pertamax      MPV    Automatic       6  2014   \n",
       "3  Pajero Sport         Dakar     Solar      SUV    Automatic       7  2016   \n",
       "4         C200K    Kompressor  Pertamax    Sedan    Automatic       5  2008   \n",
       "\n",
       "   milage   color                                              image  \\\n",
       "0     250  Silver  https://img4.icarcdn.com/2200806/thumb-l_used-...   \n",
       "1   67500   Hijau  https://img2.icarcdn.com/8715916/thumb-l_used-...   \n",
       "2   64000   Hitam  https://img3.icarcdn.com/6198256/thumb-l_used-...   \n",
       "3   17500   Hitam  https://img5.icarcdn.com/1648605/thumb-l_used-...   \n",
       "4   50000  Silver  https://img5.icarcdn.com/1269795/thumb-l_used-...   \n",
       "\n",
       "             place      price  \n",
       "0         Wonogiri  115000000  \n",
       "1         Surabaya  105000000  \n",
       "2  Jakarta Selatan  355000000  \n",
       "3          Bandung  455000000  \n",
       "4    Jakarta Utara  162000000  "
      ]
     },
     "execution_count": 3,
     "metadata": {},
     "output_type": "execute_result"
    }
   ],
   "source": [
    "used_car = pd.read_csv(r'C:\\Users\\tab\\Desktop\\Modul 3\\tugas akhir\\dataset231\\used_cars.csv', encoding=\"utf-8\")\n",
    "used_car.head()"
   ]
  },
  {
   "cell_type": "markdown",
   "metadata": {},
   "source": [
    "This is the data of Indonesian's used car that containing price, model, and their many different features. This dataset was uploaded by Remko Weingarten at 20-07-2020 in atapdata.ai for data analysis purposes."
   ]
  },
  {
   "cell_type": "code",
   "execution_count": 4,
   "metadata": {},
   "outputs": [],
   "source": [
    "used_car.rename(columns={'tramsmission':'transmission'}, inplace=True)"
   ]
  },
  {
   "cell_type": "code",
   "execution_count": 5,
   "metadata": {},
   "outputs": [
    {
     "data": {
      "text/plain": [
       "89585"
      ]
     },
     "execution_count": 5,
     "metadata": {},
     "output_type": "execute_result"
    }
   ],
   "source": [
    "len(used_car)"
   ]
  },
  {
   "cell_type": "markdown",
   "metadata": {},
   "source": [
    "This dataset contains 89585 rows of used car information that contain many information such as :\n",
    "\n",
    "1. id : identifier\n",
    "2. title : car's name (car's brand, car's model, car's variant, and car's year production)\n",
    "3. band : car's brand\n",
    "4. model : car's model\n",
    "5. variant : car's variant\n",
    "6. Fuel Type : type of gasoline (pertamax, solar, premium)\n",
    "7. transmision : transmision type (manual/automatic)\n",
    "8. seating : number of seat\n",
    "9. year : car's year production\n",
    "10. milage : number of distance traveled (using kilometre)\n",
    "11. color : color of car\n",
    "12. image : picture of car\n",
    "13. place : place of sales\n",
    "14. price : price of car"
   ]
  },
  {
   "cell_type": "markdown",
   "metadata": {},
   "source": [
    "## Exploratory Data Analysis\n",
    "\n",
    "This step is to analyzing dataset and collecting information from each of its columns. "
   ]
  },
  {
   "cell_type": "code",
   "execution_count": 6,
   "metadata": {},
   "outputs": [
    {
     "data": {
      "text/html": [
       "<div>\n",
       "<style scoped>\n",
       "    .dataframe tbody tr th:only-of-type {\n",
       "        vertical-align: middle;\n",
       "    }\n",
       "\n",
       "    .dataframe tbody tr th {\n",
       "        vertical-align: top;\n",
       "    }\n",
       "\n",
       "    .dataframe thead th {\n",
       "        text-align: right;\n",
       "    }\n",
       "</style>\n",
       "<table border=\"1\" class=\"dataframe\">\n",
       "  <thead>\n",
       "    <tr style=\"text-align: right;\">\n",
       "      <th></th>\n",
       "      <th>count</th>\n",
       "      <th>mean</th>\n",
       "      <th>std</th>\n",
       "      <th>min</th>\n",
       "      <th>25%</th>\n",
       "      <th>50%</th>\n",
       "      <th>75%</th>\n",
       "      <th>max</th>\n",
       "    </tr>\n",
       "  </thead>\n",
       "  <tbody>\n",
       "    <tr>\n",
       "      <th>id</th>\n",
       "      <td>89585.0</td>\n",
       "      <td>4.479300e+04</td>\n",
       "      <td>2.586111e+04</td>\n",
       "      <td>1.0</td>\n",
       "      <td>22397.0</td>\n",
       "      <td>44793.0</td>\n",
       "      <td>67189.0</td>\n",
       "      <td>8.958500e+04</td>\n",
       "    </tr>\n",
       "    <tr>\n",
       "      <th>year</th>\n",
       "      <td>89585.0</td>\n",
       "      <td>2.013376e+03</td>\n",
       "      <td>4.204212e+00</td>\n",
       "      <td>1955.0</td>\n",
       "      <td>2012.0</td>\n",
       "      <td>2014.0</td>\n",
       "      <td>2016.0</td>\n",
       "      <td>2.020000e+03</td>\n",
       "    </tr>\n",
       "    <tr>\n",
       "      <th>milage</th>\n",
       "      <td>89585.0</td>\n",
       "      <td>5.865850e+04</td>\n",
       "      <td>6.761847e+04</td>\n",
       "      <td>1.0</td>\n",
       "      <td>25000.0</td>\n",
       "      <td>50000.0</td>\n",
       "      <td>80000.0</td>\n",
       "      <td>5.000000e+06</td>\n",
       "    </tr>\n",
       "    <tr>\n",
       "      <th>price</th>\n",
       "      <td>89585.0</td>\n",
       "      <td>2.660582e+08</td>\n",
       "      <td>3.860866e+08</td>\n",
       "      <td>93000.0</td>\n",
       "      <td>115000000.0</td>\n",
       "      <td>155000000.0</td>\n",
       "      <td>245000000.0</td>\n",
       "      <td>1.300000e+10</td>\n",
       "    </tr>\n",
       "  </tbody>\n",
       "</table>\n",
       "</div>"
      ],
      "text/plain": [
       "          count          mean           std      min          25%  \\\n",
       "id      89585.0  4.479300e+04  2.586111e+04      1.0      22397.0   \n",
       "year    89585.0  2.013376e+03  4.204212e+00   1955.0       2012.0   \n",
       "milage  89585.0  5.865850e+04  6.761847e+04      1.0      25000.0   \n",
       "price   89585.0  2.660582e+08  3.860866e+08  93000.0  115000000.0   \n",
       "\n",
       "                50%          75%           max  \n",
       "id          44793.0      67189.0  8.958500e+04  \n",
       "year         2014.0       2016.0  2.020000e+03  \n",
       "milage      50000.0      80000.0  5.000000e+06  \n",
       "price   155000000.0  245000000.0  1.300000e+10  "
      ]
     },
     "execution_count": 6,
     "metadata": {},
     "output_type": "execute_result"
    }
   ],
   "source": [
    "used_car.describe().T"
   ]
  },
  {
   "cell_type": "code",
   "execution_count": 7,
   "metadata": {},
   "outputs": [
    {
     "name": "stdout",
     "output_type": "stream",
     "text": [
      "<class 'pandas.core.frame.DataFrame'>\n",
      "RangeIndex: 89585 entries, 0 to 89584\n",
      "Data columns (total 15 columns):\n",
      " #   Column        Non-Null Count  Dtype \n",
      "---  ------        --------------  ----- \n",
      " 0   id            89585 non-null  int64 \n",
      " 1   title         89585 non-null  object\n",
      " 2   band          89585 non-null  object\n",
      " 3   model         89585 non-null  object\n",
      " 4   variant       87482 non-null  object\n",
      " 5   fuelType      89583 non-null  object\n",
      " 6   bodytype      89392 non-null  object\n",
      " 7   transmission  89585 non-null  object\n",
      " 8   seating       89585 non-null  object\n",
      " 9   year          89585 non-null  int64 \n",
      " 10  milage        89585 non-null  int64 \n",
      " 11  color         89585 non-null  object\n",
      " 12  image         89585 non-null  object\n",
      " 13  place         89585 non-null  object\n",
      " 14  price         89585 non-null  int64 \n",
      "dtypes: int64(4), object(11)\n",
      "memory usage: 10.3+ MB\n"
     ]
    }
   ],
   "source": [
    "used_car.info()"
   ]
  },
  {
   "cell_type": "code",
   "execution_count": 8,
   "metadata": {},
   "outputs": [],
   "source": [
    "list_item = []\n",
    "for col in used_car.columns:\n",
    "    list_item.append([col, used_car[col].dtype, used_car[col].isna().sum(), round((used_car[col].isna().sum()/len(used_car[col]))*100,2),\n",
    "                      used_car[col].nunique()])\n",
    "\n",
    "desc = pd.DataFrame(columns=['column', 'dtype', 'NumbOfNull', 'NullPercent', 'NUnique'],data=list_item)"
   ]
  },
  {
   "cell_type": "markdown",
   "metadata": {},
   "source": [
    "## Feature Selection\n",
    "\n",
    "First step to select columns that to be trained is drop many unimportant column which only as identifier and doesn't make any corelation with other feature such as :\n",
    "\n",
    "\n",
    "1. ID : This feature only as identifier and doesn't make any corelation with any other feature, so it is better to drop this feature\n",
    "2. Image : This feature is stored as image data and can't be encoded as numeric value, since machine learning is only recognized numeric value, for the sake of simplicity is better to drop this feature."
   ]
  },
  {
   "cell_type": "code",
   "execution_count": 9,
   "metadata": {},
   "outputs": [],
   "source": [
    "# Drop unimportant feature\n",
    "data = used_car.drop(['id', 'image'], axis=1)"
   ]
  },
  {
   "cell_type": "code",
   "execution_count": 10,
   "metadata": {},
   "outputs": [
    {
     "data": {
      "text/html": [
       "<div>\n",
       "<style scoped>\n",
       "    .dataframe tbody tr th:only-of-type {\n",
       "        vertical-align: middle;\n",
       "    }\n",
       "\n",
       "    .dataframe tbody tr th {\n",
       "        vertical-align: top;\n",
       "    }\n",
       "\n",
       "    .dataframe thead th {\n",
       "        text-align: right;\n",
       "    }\n",
       "</style>\n",
       "<table border=\"1\" class=\"dataframe\">\n",
       "  <thead>\n",
       "    <tr style=\"text-align: right;\">\n",
       "      <th></th>\n",
       "      <th>column</th>\n",
       "      <th>dtype</th>\n",
       "      <th>NumbOfNull</th>\n",
       "      <th>NullPercent</th>\n",
       "      <th>NUnique</th>\n",
       "    </tr>\n",
       "  </thead>\n",
       "  <tbody>\n",
       "    <tr>\n",
       "      <th>0</th>\n",
       "      <td>title</td>\n",
       "      <td>object</td>\n",
       "      <td>0</td>\n",
       "      <td>0.00</td>\n",
       "      <td>5659</td>\n",
       "    </tr>\n",
       "    <tr>\n",
       "      <th>1</th>\n",
       "      <td>band</td>\n",
       "      <td>object</td>\n",
       "      <td>0</td>\n",
       "      <td>0.00</td>\n",
       "      <td>60</td>\n",
       "    </tr>\n",
       "    <tr>\n",
       "      <th>2</th>\n",
       "      <td>model</td>\n",
       "      <td>object</td>\n",
       "      <td>0</td>\n",
       "      <td>0.00</td>\n",
       "      <td>630</td>\n",
       "    </tr>\n",
       "    <tr>\n",
       "      <th>3</th>\n",
       "      <td>variant</td>\n",
       "      <td>object</td>\n",
       "      <td>2103</td>\n",
       "      <td>2.35</td>\n",
       "      <td>1049</td>\n",
       "    </tr>\n",
       "    <tr>\n",
       "      <th>4</th>\n",
       "      <td>fuelType</td>\n",
       "      <td>object</td>\n",
       "      <td>2</td>\n",
       "      <td>0.00</td>\n",
       "      <td>8</td>\n",
       "    </tr>\n",
       "    <tr>\n",
       "      <th>5</th>\n",
       "      <td>bodytype</td>\n",
       "      <td>object</td>\n",
       "      <td>193</td>\n",
       "      <td>0.22</td>\n",
       "      <td>26</td>\n",
       "    </tr>\n",
       "    <tr>\n",
       "      <th>6</th>\n",
       "      <td>transmission</td>\n",
       "      <td>object</td>\n",
       "      <td>0</td>\n",
       "      <td>0.00</td>\n",
       "      <td>2</td>\n",
       "    </tr>\n",
       "    <tr>\n",
       "      <th>7</th>\n",
       "      <td>seating</td>\n",
       "      <td>object</td>\n",
       "      <td>0</td>\n",
       "      <td>0.00</td>\n",
       "      <td>17</td>\n",
       "    </tr>\n",
       "    <tr>\n",
       "      <th>8</th>\n",
       "      <td>year</td>\n",
       "      <td>int64</td>\n",
       "      <td>0</td>\n",
       "      <td>0.00</td>\n",
       "      <td>60</td>\n",
       "    </tr>\n",
       "    <tr>\n",
       "      <th>9</th>\n",
       "      <td>milage</td>\n",
       "      <td>int64</td>\n",
       "      <td>0</td>\n",
       "      <td>0.00</td>\n",
       "      <td>3549</td>\n",
       "    </tr>\n",
       "    <tr>\n",
       "      <th>10</th>\n",
       "      <td>color</td>\n",
       "      <td>object</td>\n",
       "      <td>0</td>\n",
       "      <td>0.00</td>\n",
       "      <td>14</td>\n",
       "    </tr>\n",
       "    <tr>\n",
       "      <th>11</th>\n",
       "      <td>place</td>\n",
       "      <td>object</td>\n",
       "      <td>0</td>\n",
       "      <td>0.00</td>\n",
       "      <td>227</td>\n",
       "    </tr>\n",
       "    <tr>\n",
       "      <th>12</th>\n",
       "      <td>price</td>\n",
       "      <td>int64</td>\n",
       "      <td>0</td>\n",
       "      <td>0.00</td>\n",
       "      <td>1959</td>\n",
       "    </tr>\n",
       "  </tbody>\n",
       "</table>\n",
       "</div>"
      ],
      "text/plain": [
       "          column   dtype  NumbOfNull  NullPercent  NUnique\n",
       "0          title  object           0         0.00     5659\n",
       "1           band  object           0         0.00       60\n",
       "2          model  object           0         0.00      630\n",
       "3        variant  object        2103         2.35     1049\n",
       "4       fuelType  object           2         0.00        8\n",
       "5       bodytype  object         193         0.22       26\n",
       "6   transmission  object           0         0.00        2\n",
       "7        seating  object           0         0.00       17\n",
       "8           year   int64           0         0.00       60\n",
       "9         milage   int64           0         0.00     3549\n",
       "10         color  object           0         0.00       14\n",
       "11         place  object           0         0.00      227\n",
       "12         price   int64           0         0.00     1959"
      ]
     },
     "execution_count": 10,
     "metadata": {},
     "output_type": "execute_result"
    }
   ],
   "source": [
    "list_item = []\n",
    "for col in data.columns:\n",
    "    list_item.append([col, data[col].dtype, data[col].isna().sum(), round((data[col].isna().sum()/len(used_car[col]))*100,2),\n",
    "                      data[col].nunique()])\n",
    "desc = pd.DataFrame(columns=['column', 'dtype', 'NumbOfNull', 'NullPercent', 'NUnique'],data=list_item)\n",
    "\n",
    "desc"
   ]
  },
  {
   "cell_type": "code",
   "execution_count": 11,
   "metadata": {
    "scrolled": true
   },
   "outputs": [
    {
     "data": {
      "text/html": [
       "<div>\n",
       "<style scoped>\n",
       "    .dataframe tbody tr th:only-of-type {\n",
       "        vertical-align: middle;\n",
       "    }\n",
       "\n",
       "    .dataframe tbody tr th {\n",
       "        vertical-align: top;\n",
       "    }\n",
       "\n",
       "    .dataframe thead th {\n",
       "        text-align: right;\n",
       "    }\n",
       "</style>\n",
       "<table border=\"1\" class=\"dataframe\">\n",
       "  <thead>\n",
       "    <tr style=\"text-align: right;\">\n",
       "      <th></th>\n",
       "      <th>title</th>\n",
       "      <th>band</th>\n",
       "      <th>model</th>\n",
       "      <th>variant</th>\n",
       "      <th>fuelType</th>\n",
       "      <th>bodytype</th>\n",
       "      <th>transmission</th>\n",
       "      <th>seating</th>\n",
       "      <th>year</th>\n",
       "      <th>milage</th>\n",
       "      <th>color</th>\n",
       "      <th>place</th>\n",
       "      <th>price</th>\n",
       "    </tr>\n",
       "  </thead>\n",
       "  <tbody>\n",
       "    <tr>\n",
       "      <th>0</th>\n",
       "      <td>2010 Nissan X-Trail 2.0 T31 SUV</td>\n",
       "      <td>Nissan</td>\n",
       "      <td>X-Trail</td>\n",
       "      <td>T31</td>\n",
       "      <td>Pertamax</td>\n",
       "      <td>SUV</td>\n",
       "      <td>Manual</td>\n",
       "      <td>5</td>\n",
       "      <td>2010</td>\n",
       "      <td>250</td>\n",
       "      <td>Silver</td>\n",
       "      <td>Wonogiri</td>\n",
       "      <td>115000000</td>\n",
       "    </tr>\n",
       "    <tr>\n",
       "      <th>1</th>\n",
       "      <td>2012 Mazda 2 1.5 S Sedan</td>\n",
       "      <td>Mazda</td>\n",
       "      <td>2</td>\n",
       "      <td>S</td>\n",
       "      <td>Pertamax</td>\n",
       "      <td>Sedan</td>\n",
       "      <td>Manual</td>\n",
       "      <td>5</td>\n",
       "      <td>2012</td>\n",
       "      <td>67500</td>\n",
       "      <td>Hijau</td>\n",
       "      <td>Surabaya</td>\n",
       "      <td>105000000</td>\n",
       "    </tr>\n",
       "    <tr>\n",
       "      <th>2</th>\n",
       "      <td>2014 Honda Odyssey 2.4 Prestige 2.4 MPV</td>\n",
       "      <td>Honda</td>\n",
       "      <td>Odyssey</td>\n",
       "      <td>Prestige 2.4</td>\n",
       "      <td>Pertamax</td>\n",
       "      <td>MPV</td>\n",
       "      <td>Automatic</td>\n",
       "      <td>6</td>\n",
       "      <td>2014</td>\n",
       "      <td>64000</td>\n",
       "      <td>Hitam</td>\n",
       "      <td>Jakarta Selatan</td>\n",
       "      <td>355000000</td>\n",
       "    </tr>\n",
       "    <tr>\n",
       "      <th>3</th>\n",
       "      <td>2016 Mitsubishi Pajero Sport 2.5 Dakar SUV</td>\n",
       "      <td>Mitsubishi</td>\n",
       "      <td>Pajero Sport</td>\n",
       "      <td>Dakar</td>\n",
       "      <td>Solar</td>\n",
       "      <td>SUV</td>\n",
       "      <td>Automatic</td>\n",
       "      <td>7</td>\n",
       "      <td>2016</td>\n",
       "      <td>17500</td>\n",
       "      <td>Hitam</td>\n",
       "      <td>Bandung</td>\n",
       "      <td>455000000</td>\n",
       "    </tr>\n",
       "    <tr>\n",
       "      <th>4</th>\n",
       "      <td>2008 Mercedes-Benz C200K 1.8 Kompressor Sedan</td>\n",
       "      <td>Mercedes-Benz</td>\n",
       "      <td>C200K</td>\n",
       "      <td>Kompressor</td>\n",
       "      <td>Pertamax</td>\n",
       "      <td>Sedan</td>\n",
       "      <td>Automatic</td>\n",
       "      <td>5</td>\n",
       "      <td>2008</td>\n",
       "      <td>50000</td>\n",
       "      <td>Silver</td>\n",
       "      <td>Jakarta Utara</td>\n",
       "      <td>162000000</td>\n",
       "    </tr>\n",
       "  </tbody>\n",
       "</table>\n",
       "</div>"
      ],
      "text/plain": [
       "                                           title           band         model  \\\n",
       "0                2010 Nissan X-Trail 2.0 T31 SUV         Nissan       X-Trail   \n",
       "1                       2012 Mazda 2 1.5 S Sedan          Mazda             2   \n",
       "2        2014 Honda Odyssey 2.4 Prestige 2.4 MPV          Honda       Odyssey   \n",
       "3     2016 Mitsubishi Pajero Sport 2.5 Dakar SUV     Mitsubishi  Pajero Sport   \n",
       "4  2008 Mercedes-Benz C200K 1.8 Kompressor Sedan  Mercedes-Benz         C200K   \n",
       "\n",
       "        variant  fuelType bodytype transmission seating  year  milage   color  \\\n",
       "0           T31  Pertamax      SUV       Manual       5  2010     250  Silver   \n",
       "1             S  Pertamax    Sedan       Manual       5  2012   67500   Hijau   \n",
       "2  Prestige 2.4  Pertamax      MPV    Automatic       6  2014   64000   Hitam   \n",
       "3         Dakar     Solar      SUV    Automatic       7  2016   17500   Hitam   \n",
       "4    Kompressor  Pertamax    Sedan    Automatic       5  2008   50000  Silver   \n",
       "\n",
       "             place      price  \n",
       "0         Wonogiri  115000000  \n",
       "1         Surabaya  105000000  \n",
       "2  Jakarta Selatan  355000000  \n",
       "3          Bandung  455000000  \n",
       "4    Jakarta Utara  162000000  "
      ]
     },
     "execution_count": 11,
     "metadata": {},
     "output_type": "execute_result"
    }
   ],
   "source": [
    "data.head()"
   ]
  },
  {
   "cell_type": "markdown",
   "metadata": {},
   "source": [
    "From the dataframe we can see that title value is only detailed value from band, model, and variant column. Each unique band can represent many model and variant. For the sake of simplicity we can drop title because it have been represented by band and model. Variant column would also being droped because variant column can be represented by year of produced. "
   ]
  },
  {
   "cell_type": "code",
   "execution_count": 12,
   "metadata": {},
   "outputs": [],
   "source": [
    "data = data.drop(['title', 'variant'], axis=1)"
   ]
  },
  {
   "cell_type": "code",
   "execution_count": 13,
   "metadata": {
    "scrolled": false
   },
   "outputs": [
    {
     "data": {
      "text/html": [
       "<div>\n",
       "<style scoped>\n",
       "    .dataframe tbody tr th:only-of-type {\n",
       "        vertical-align: middle;\n",
       "    }\n",
       "\n",
       "    .dataframe tbody tr th {\n",
       "        vertical-align: top;\n",
       "    }\n",
       "\n",
       "    .dataframe thead th {\n",
       "        text-align: right;\n",
       "    }\n",
       "</style>\n",
       "<table border=\"1\" class=\"dataframe\">\n",
       "  <thead>\n",
       "    <tr style=\"text-align: right;\">\n",
       "      <th></th>\n",
       "      <th>band</th>\n",
       "      <th>model</th>\n",
       "      <th>fuelType</th>\n",
       "      <th>bodytype</th>\n",
       "      <th>transmission</th>\n",
       "      <th>seating</th>\n",
       "      <th>year</th>\n",
       "      <th>milage</th>\n",
       "      <th>color</th>\n",
       "      <th>place</th>\n",
       "      <th>price</th>\n",
       "    </tr>\n",
       "  </thead>\n",
       "  <tbody>\n",
       "    <tr>\n",
       "      <th>0</th>\n",
       "      <td>Nissan</td>\n",
       "      <td>X-Trail</td>\n",
       "      <td>Pertamax</td>\n",
       "      <td>SUV</td>\n",
       "      <td>Manual</td>\n",
       "      <td>5</td>\n",
       "      <td>2010</td>\n",
       "      <td>250</td>\n",
       "      <td>Silver</td>\n",
       "      <td>Wonogiri</td>\n",
       "      <td>115000000</td>\n",
       "    </tr>\n",
       "    <tr>\n",
       "      <th>1</th>\n",
       "      <td>Mazda</td>\n",
       "      <td>2</td>\n",
       "      <td>Pertamax</td>\n",
       "      <td>Sedan</td>\n",
       "      <td>Manual</td>\n",
       "      <td>5</td>\n",
       "      <td>2012</td>\n",
       "      <td>67500</td>\n",
       "      <td>Hijau</td>\n",
       "      <td>Surabaya</td>\n",
       "      <td>105000000</td>\n",
       "    </tr>\n",
       "    <tr>\n",
       "      <th>2</th>\n",
       "      <td>Honda</td>\n",
       "      <td>Odyssey</td>\n",
       "      <td>Pertamax</td>\n",
       "      <td>MPV</td>\n",
       "      <td>Automatic</td>\n",
       "      <td>6</td>\n",
       "      <td>2014</td>\n",
       "      <td>64000</td>\n",
       "      <td>Hitam</td>\n",
       "      <td>Jakarta Selatan</td>\n",
       "      <td>355000000</td>\n",
       "    </tr>\n",
       "    <tr>\n",
       "      <th>3</th>\n",
       "      <td>Mitsubishi</td>\n",
       "      <td>Pajero Sport</td>\n",
       "      <td>Solar</td>\n",
       "      <td>SUV</td>\n",
       "      <td>Automatic</td>\n",
       "      <td>7</td>\n",
       "      <td>2016</td>\n",
       "      <td>17500</td>\n",
       "      <td>Hitam</td>\n",
       "      <td>Bandung</td>\n",
       "      <td>455000000</td>\n",
       "    </tr>\n",
       "    <tr>\n",
       "      <th>4</th>\n",
       "      <td>Mercedes-Benz</td>\n",
       "      <td>C200K</td>\n",
       "      <td>Pertamax</td>\n",
       "      <td>Sedan</td>\n",
       "      <td>Automatic</td>\n",
       "      <td>5</td>\n",
       "      <td>2008</td>\n",
       "      <td>50000</td>\n",
       "      <td>Silver</td>\n",
       "      <td>Jakarta Utara</td>\n",
       "      <td>162000000</td>\n",
       "    </tr>\n",
       "    <tr>\n",
       "      <th>5</th>\n",
       "      <td>Toyota</td>\n",
       "      <td>Kijang Innova</td>\n",
       "      <td>Solar</td>\n",
       "      <td>MPV</td>\n",
       "      <td>Automatic</td>\n",
       "      <td>8</td>\n",
       "      <td>2018</td>\n",
       "      <td>40000</td>\n",
       "      <td>Hitam</td>\n",
       "      <td>Lamongan</td>\n",
       "      <td>315000005</td>\n",
       "    </tr>\n",
       "    <tr>\n",
       "      <th>6</th>\n",
       "      <td>Chevrolet</td>\n",
       "      <td>Captiva</td>\n",
       "      <td>Solar</td>\n",
       "      <td>SUV</td>\n",
       "      <td>Automatic</td>\n",
       "      <td>7</td>\n",
       "      <td>2011</td>\n",
       "      <td>76000</td>\n",
       "      <td>Hitam</td>\n",
       "      <td>Tangerang</td>\n",
       "      <td>155000000</td>\n",
       "    </tr>\n",
       "    <tr>\n",
       "      <th>7</th>\n",
       "      <td>Toyota</td>\n",
       "      <td>Kijang Innova</td>\n",
       "      <td>Solar</td>\n",
       "      <td>MPV</td>\n",
       "      <td>Manual</td>\n",
       "      <td>8</td>\n",
       "      <td>2010</td>\n",
       "      <td>77500</td>\n",
       "      <td>Silver</td>\n",
       "      <td>Medan</td>\n",
       "      <td>188000000</td>\n",
       "    </tr>\n",
       "    <tr>\n",
       "      <th>8</th>\n",
       "      <td>Honda</td>\n",
       "      <td>Jazz</td>\n",
       "      <td>Pertamax</td>\n",
       "      <td>Hatchback</td>\n",
       "      <td>Automatic</td>\n",
       "      <td>5</td>\n",
       "      <td>2016</td>\n",
       "      <td>44000</td>\n",
       "      <td>Merah</td>\n",
       "      <td>Jakarta Utara</td>\n",
       "      <td>195000000</td>\n",
       "    </tr>\n",
       "    <tr>\n",
       "      <th>9</th>\n",
       "      <td>Daihatsu</td>\n",
       "      <td>Xenia</td>\n",
       "      <td>Pertamax</td>\n",
       "      <td>MPV</td>\n",
       "      <td>Manual</td>\n",
       "      <td>7</td>\n",
       "      <td>2012</td>\n",
       "      <td>1400</td>\n",
       "      <td>Putih</td>\n",
       "      <td>Cirebon</td>\n",
       "      <td>110000000</td>\n",
       "    </tr>\n",
       "  </tbody>\n",
       "</table>\n",
       "</div>"
      ],
      "text/plain": [
       "            band          model  fuelType   bodytype transmission seating  \\\n",
       "0         Nissan        X-Trail  Pertamax        SUV       Manual       5   \n",
       "1          Mazda              2  Pertamax      Sedan       Manual       5   \n",
       "2          Honda        Odyssey  Pertamax        MPV    Automatic       6   \n",
       "3     Mitsubishi   Pajero Sport     Solar        SUV    Automatic       7   \n",
       "4  Mercedes-Benz          C200K  Pertamax      Sedan    Automatic       5   \n",
       "5         Toyota  Kijang Innova     Solar        MPV    Automatic       8   \n",
       "6      Chevrolet        Captiva     Solar        SUV    Automatic       7   \n",
       "7         Toyota  Kijang Innova     Solar        MPV       Manual       8   \n",
       "8          Honda           Jazz  Pertamax  Hatchback    Automatic       5   \n",
       "9       Daihatsu          Xenia  Pertamax        MPV       Manual       7   \n",
       "\n",
       "   year  milage   color            place      price  \n",
       "0  2010     250  Silver         Wonogiri  115000000  \n",
       "1  2012   67500   Hijau         Surabaya  105000000  \n",
       "2  2014   64000   Hitam  Jakarta Selatan  355000000  \n",
       "3  2016   17500   Hitam          Bandung  455000000  \n",
       "4  2008   50000  Silver    Jakarta Utara  162000000  \n",
       "5  2018   40000   Hitam         Lamongan  315000005  \n",
       "6  2011   76000   Hitam        Tangerang  155000000  \n",
       "7  2010   77500  Silver            Medan  188000000  \n",
       "8  2016   44000   Merah    Jakarta Utara  195000000  \n",
       "9  2012    1400   Putih          Cirebon  110000000  "
      ]
     },
     "execution_count": 13,
     "metadata": {},
     "output_type": "execute_result"
    }
   ],
   "source": [
    "data.head(10)"
   ]
  },
  {
   "cell_type": "code",
   "execution_count": 14,
   "metadata": {
    "scrolled": false
   },
   "outputs": [
    {
     "data": {
      "text/plain": [
       "array(['5', '6', '7', '8', '9', '4', '3', '2', '12', '-', '11', '10',\n",
       "       '16', '20', '18', '15', '14'], dtype=object)"
      ]
     },
     "execution_count": 14,
     "metadata": {},
     "output_type": "execute_result"
    }
   ],
   "source": [
    "data.seating.unique()"
   ]
  },
  {
   "cell_type": "code",
   "execution_count": 15,
   "metadata": {
    "scrolled": true
   },
   "outputs": [
    {
     "data": {
      "text/html": [
       "<div>\n",
       "<style scoped>\n",
       "    .dataframe tbody tr th:only-of-type {\n",
       "        vertical-align: middle;\n",
       "    }\n",
       "\n",
       "    .dataframe tbody tr th {\n",
       "        vertical-align: top;\n",
       "    }\n",
       "\n",
       "    .dataframe thead th {\n",
       "        text-align: right;\n",
       "    }\n",
       "</style>\n",
       "<table border=\"1\" class=\"dataframe\">\n",
       "  <thead>\n",
       "    <tr style=\"text-align: right;\">\n",
       "      <th></th>\n",
       "      <th>band</th>\n",
       "      <th>model</th>\n",
       "      <th>fuelType</th>\n",
       "      <th>bodytype</th>\n",
       "      <th>transmission</th>\n",
       "      <th>seating</th>\n",
       "      <th>year</th>\n",
       "      <th>milage</th>\n",
       "      <th>color</th>\n",
       "      <th>place</th>\n",
       "      <th>price</th>\n",
       "    </tr>\n",
       "  </thead>\n",
       "  <tbody>\n",
       "    <tr>\n",
       "      <th>1001</th>\n",
       "      <td>Toyota</td>\n",
       "      <td>Limo</td>\n",
       "      <td>Premium</td>\n",
       "      <td>Sedan</td>\n",
       "      <td>Manual</td>\n",
       "      <td>-</td>\n",
       "      <td>2011</td>\n",
       "      <td>147500</td>\n",
       "      <td>Biru</td>\n",
       "      <td>Bekasi</td>\n",
       "      <td>90000000</td>\n",
       "    </tr>\n",
       "    <tr>\n",
       "      <th>10213</th>\n",
       "      <td>Nissan</td>\n",
       "      <td>Infiniti</td>\n",
       "      <td>Premium</td>\n",
       "      <td>Sedan</td>\n",
       "      <td>Automatic</td>\n",
       "      <td>-</td>\n",
       "      <td>1997</td>\n",
       "      <td>112500</td>\n",
       "      <td>Silver</td>\n",
       "      <td>Bandung</td>\n",
       "      <td>39000000</td>\n",
       "    </tr>\n",
       "    <tr>\n",
       "      <th>40281</th>\n",
       "      <td>Toyota</td>\n",
       "      <td>Land Cruiser</td>\n",
       "      <td>Premium</td>\n",
       "      <td>SUV Offroad 4WD</td>\n",
       "      <td>Manual</td>\n",
       "      <td>-</td>\n",
       "      <td>1983</td>\n",
       "      <td>297500</td>\n",
       "      <td>Hitam</td>\n",
       "      <td>Bandung</td>\n",
       "      <td>175000000</td>\n",
       "    </tr>\n",
       "    <tr>\n",
       "      <th>43487</th>\n",
       "      <td>Toyota</td>\n",
       "      <td>Kijang</td>\n",
       "      <td>Premium</td>\n",
       "      <td>MPV Minivans</td>\n",
       "      <td>Manual</td>\n",
       "      <td>-</td>\n",
       "      <td>2000</td>\n",
       "      <td>170000</td>\n",
       "      <td>Biru</td>\n",
       "      <td>Depok</td>\n",
       "      <td>98000000</td>\n",
       "    </tr>\n",
       "    <tr>\n",
       "      <th>57645</th>\n",
       "      <td>Daihatsu</td>\n",
       "      <td>Espass</td>\n",
       "      <td>Premium</td>\n",
       "      <td>MPV Minivans</td>\n",
       "      <td>Manual</td>\n",
       "      <td>-</td>\n",
       "      <td>1996</td>\n",
       "      <td>197500</td>\n",
       "      <td>Abu-abu</td>\n",
       "      <td>Depok</td>\n",
       "      <td>23500000</td>\n",
       "    </tr>\n",
       "    <tr>\n",
       "      <th>81519</th>\n",
       "      <td>Suzuki</td>\n",
       "      <td>X-Over</td>\n",
       "      <td>Premium</td>\n",
       "      <td>Sedan</td>\n",
       "      <td>Automatic</td>\n",
       "      <td>-</td>\n",
       "      <td>2011</td>\n",
       "      <td>70000</td>\n",
       "      <td>Putih</td>\n",
       "      <td>Surabaya</td>\n",
       "      <td>148000000</td>\n",
       "    </tr>\n",
       "  </tbody>\n",
       "</table>\n",
       "</div>"
      ],
      "text/plain": [
       "           band         model fuelType         bodytype transmission seating  \\\n",
       "1001     Toyota          Limo  Premium            Sedan       Manual       -   \n",
       "10213    Nissan      Infiniti  Premium            Sedan    Automatic       -   \n",
       "40281    Toyota  Land Cruiser  Premium  SUV Offroad 4WD       Manual       -   \n",
       "43487    Toyota        Kijang  Premium     MPV Minivans       Manual       -   \n",
       "57645  Daihatsu        Espass  Premium     MPV Minivans       Manual       -   \n",
       "81519    Suzuki        X-Over  Premium            Sedan    Automatic       -   \n",
       "\n",
       "       year  milage    color     place      price  \n",
       "1001   2011  147500     Biru    Bekasi   90000000  \n",
       "10213  1997  112500   Silver   Bandung   39000000  \n",
       "40281  1983  297500    Hitam   Bandung  175000000  \n",
       "43487  2000  170000     Biru     Depok   98000000  \n",
       "57645  1996  197500  Abu-abu     Depok   23500000  \n",
       "81519  2011   70000    Putih  Surabaya  148000000  "
      ]
     },
     "execution_count": 15,
     "metadata": {},
     "output_type": "execute_result"
    }
   ],
   "source": [
    "data[data['seating'] == '-']"
   ]
  },
  {
   "cell_type": "code",
   "execution_count": 16,
   "metadata": {},
   "outputs": [],
   "source": [
    "data.at[40281, 'seating'] = 4 \n",
    "data.at[1001, 'seating'] = 5 \n",
    "data.at[10213, 'seating'] = 7\n",
    "data.at[43487, 'seating'] = 7\n",
    "data.at[57645, 'seating'] = 9\n",
    "data.at[81519, 'seating'] = 5\n"
   ]
  },
  {
   "cell_type": "code",
   "execution_count": 17,
   "metadata": {},
   "outputs": [],
   "source": [
    "data['seating'] =data['seating'].astype(int)"
   ]
  },
  {
   "cell_type": "code",
   "execution_count": 18,
   "metadata": {},
   "outputs": [
    {
     "data": {
      "text/plain": [
       "dtype('int32')"
      ]
     },
     "execution_count": 18,
     "metadata": {},
     "output_type": "execute_result"
    }
   ],
   "source": [
    "data.seating.dtype"
   ]
  },
  {
   "cell_type": "markdown",
   "metadata": {},
   "source": [
    "# Function to find outliers"
   ]
  },
  {
   "cell_type": "code",
   "execution_count": 19,
   "metadata": {},
   "outputs": [],
   "source": [
    "\n",
    "def outliers(DataFrame,Series):\n",
    "    iqr = Series.quantile(.75) - Series.quantile(.25)\n",
    "    lower_bound = Series.quantile(.25) - (1.5*iqr)\n",
    "    upper_bound = Series.quantile(.75) + (1.5*iqr)\n",
    "    return DataFrame[(Series >= upper_bound) | (Series <= lower_bound)]"
   ]
  },
  {
   "cell_type": "markdown",
   "metadata": {},
   "source": [
    "# Outliers for price"
   ]
  },
  {
   "cell_type": "code",
   "execution_count": 20,
   "metadata": {
    "scrolled": false
   },
   "outputs": [
    {
     "name": "stdout",
     "output_type": "stream",
     "text": [
      "Persentase outliers: 11.68%\n"
     ]
    }
   ],
   "source": [
    "\n",
    "# Persentasi Outliers Price Feature\n",
    "print(f'Persentase outliers: {round(len(outliers(data,data.price))/len(data.price)*100,2)}%')"
   ]
  },
  {
   "cell_type": "code",
   "execution_count": 21,
   "metadata": {
    "scrolled": false
   },
   "outputs": [
    {
     "data": {
      "image/png": "[encoded data removed]",
      "text/plain": [
       "<Figure size 432x288 with 1 Axes>"
      ]
     },
     "metadata": {
      "needs_background": "light"
     },
     "output_type": "display_data"
    }
   ],
   "source": [
    "\n",
    "sns.boxplot(y='price', data=data,showfliers=True);"
   ]
  },
  {
   "cell_type": "code",
   "execution_count": 22,
   "metadata": {},
   "outputs": [],
   "source": [
    "data = data[data['price'] <= 286500000]\n",
    "data = data[data['price'] > 93000]"
   ]
  },
  {
   "cell_type": "code",
   "execution_count": 23,
   "metadata": {
    "scrolled": false
   },
   "outputs": [
    {
     "data": {
      "image/png": "[encoded data removed]",
      "text/plain": [
       "<Figure size 432x288 with 1 Axes>"
      ]
     },
     "metadata": {
      "needs_background": "light"
     },
     "output_type": "display_data"
    }
   ],
   "source": [
    "\n",
    "sns.boxplot(y='price', data=data,showfliers=True);"
   ]
  },
  {
   "cell_type": "code",
   "execution_count": 24,
   "metadata": {
    "scrolled": false
   },
   "outputs": [
    {
     "name": "stderr",
     "output_type": "stream",
     "text": [
      "C:\\Users\\tab\\anaconda3\\lib\\site-packages\\seaborn\\distributions.py:2551: FutureWarning: `distplot` is a deprecated function and will be removed in a future version. Please adapt your code to use either `displot` (a figure-level function with similar flexibility) or `histplot` (an axes-level function for histograms).\n",
      "  warnings.warn(msg, FutureWarning)\n"
     ]
    },
    {
     "data": {
      "text/plain": [
       "<matplotlib.axes._subplots.AxesSubplot at 0x1ad6bb44848>"
      ]
     },
     "execution_count": 24,
     "metadata": {},
     "output_type": "execute_result"
    },
    {
     "data": {
      "image/png": "[encoded data removed]",
      "text/plain": [
       "<Figure size 432x288 with 1 Axes>"
      ]
     },
     "metadata": {
      "needs_background": "light"
     },
     "output_type": "display_data"
    }
   ],
   "source": [
    "sns.distplot(data.price)"
   ]
  },
  {
   "cell_type": "markdown",
   "metadata": {},
   "source": [
    "# Outliers for seating"
   ]
  },
  {
   "cell_type": "code",
   "execution_count": 25,
   "metadata": {},
   "outputs": [
    {
     "name": "stdout",
     "output_type": "stream",
     "text": [
      "Persentase outliers: 0.89%\n"
     ]
    }
   ],
   "source": [
    "\n",
    "# Persentasi Outliers seating Feature\n",
    "print(f'Persentase outliers: {round(len(outliers(data,data.seating))/len(data.seating)*100,2)}%')"
   ]
  },
  {
   "cell_type": "code",
   "execution_count": 26,
   "metadata": {},
   "outputs": [
    {
     "data": {
      "image/png": "[encoded data removed]",
      "text/plain": [
       "<Figure size 432x288 with 1 Axes>"
      ]
     },
     "metadata": {
      "needs_background": "light"
     },
     "output_type": "display_data"
    }
   ],
   "source": [
    "\n",
    "sns.boxplot(x='seating', data=data,showfliers=True);"
   ]
  },
  {
   "cell_type": "code",
   "execution_count": 27,
   "metadata": {},
   "outputs": [],
   "source": [
    "data = data[data['seating'] <= 10]"
   ]
  },
  {
   "cell_type": "code",
   "execution_count": 28,
   "metadata": {
    "scrolled": true
   },
   "outputs": [
    {
     "data": {
      "text/plain": [
       "2     590\n",
       "10     14\n",
       "Name: seating, dtype: int64"
      ]
     },
     "execution_count": 28,
     "metadata": {},
     "output_type": "execute_result"
    }
   ],
   "source": [
    "outliers(data, data.seating).sort_values('seating', ascending=False)['seating'].value_counts()"
   ]
  },
  {
   "cell_type": "code",
   "execution_count": 29,
   "metadata": {},
   "outputs": [
    {
     "data": {
      "image/png": "[encoded data removed]",
      "text/plain": [
       "<Figure size 432x288 with 1 Axes>"
      ]
     },
     "metadata": {
      "needs_background": "light"
     },
     "output_type": "display_data"
    }
   ],
   "source": [
    "\n",
    "sns.boxplot(x='seating', data=data,showfliers=True);"
   ]
  },
  {
   "cell_type": "code",
   "execution_count": 30,
   "metadata": {},
   "outputs": [
    {
     "data": {
      "text/plain": [
       "<matplotlib.axes._subplots.AxesSubplot at 0x1ad6a08e148>"
      ]
     },
     "execution_count": 30,
     "metadata": {},
     "output_type": "execute_result"
    },
    {
     "data": {
      "image/png": "[encoded data removed]",
      "text/plain": [
       "<Figure size 720x432 with 1 Axes>"
      ]
     },
     "metadata": {
      "needs_background": "light"
     },
     "output_type": "display_data"
    }
   ],
   "source": [
    "plt.figure(figsize=(10,6))\n",
    "data.seating.value_counts().plot(kind='bar')"
   ]
  },
  {
   "cell_type": "markdown",
   "metadata": {},
   "source": [
    "# Outliers for year"
   ]
  },
  {
   "cell_type": "code",
   "execution_count": 31,
   "metadata": {},
   "outputs": [
    {
     "data": {
      "image/png": "[encoded data removed]",
      "text/plain": [
       "<Figure size 432x288 with 1 Axes>"
      ]
     },
     "metadata": {
      "needs_background": "light"
     },
     "output_type": "display_data"
    }
   ],
   "source": [
    "# Persentasi Outliers year Feature\n",
    "sns.boxplot(x='year', data=data,showfliers=True);"
   ]
  },
  {
   "cell_type": "code",
   "execution_count": 32,
   "metadata": {
    "scrolled": true
   },
   "outputs": [
    {
     "name": "stdout",
     "output_type": "stream",
     "text": [
      "Persentase outliers: 6.39%\n"
     ]
    }
   ],
   "source": [
    "print(f'Persentase outliers: {round(len(outliers(data,data.year))/len(data.year)*100,2)}%')"
   ]
  },
  {
   "cell_type": "code",
   "execution_count": 33,
   "metadata": {},
   "outputs": [],
   "source": [
    "data = data[data['year'] >= 2006]"
   ]
  },
  {
   "cell_type": "code",
   "execution_count": 34,
   "metadata": {},
   "outputs": [
    {
     "data": {
      "image/png": "[encoded data removed]",
      "text/plain": [
       "<Figure size 432x288 with 1 Axes>"
      ]
     },
     "metadata": {
      "needs_background": "light"
     },
     "output_type": "display_data"
    }
   ],
   "source": [
    "# Persentasi Outliers year Feature\n",
    "sns.boxplot(x='year', data=data,showfliers=True);"
   ]
  },
  {
   "cell_type": "code",
   "execution_count": 35,
   "metadata": {},
   "outputs": [
    {
     "data": {
      "text/plain": [
       "<matplotlib.axes._subplots.AxesSubplot at 0x1ad6b73b108>"
      ]
     },
     "execution_count": 35,
     "metadata": {},
     "output_type": "execute_result"
    },
    {
     "data": {
      "image/png": "[encoded data removed]",
      "text/plain": [
       "<Figure size 720x432 with 1 Axes>"
      ]
     },
     "metadata": {
      "needs_background": "light"
     },
     "output_type": "display_data"
    }
   ],
   "source": [
    "plt.figure(figsize=(10,6))\n",
    "data.year.value_counts().plot(kind='bar')"
   ]
  },
  {
   "cell_type": "markdown",
   "metadata": {},
   "source": [
    "# Outliers for milage"
   ]
  },
  {
   "cell_type": "code",
   "execution_count": 36,
   "metadata": {},
   "outputs": [],
   "source": [
    "data['milage'] =data['milage'].astype(int)"
   ]
  },
  {
   "cell_type": "code",
   "execution_count": 37,
   "metadata": {},
   "outputs": [
    {
     "name": "stdout",
     "output_type": "stream",
     "text": [
      "Persentase outliers: 2.9%\n"
     ]
    }
   ],
   "source": [
    "print(f'Persentase outliers: {round(len(outliers(data,data.milage))/len(data.milage)*100,2)}%')"
   ]
  },
  {
   "cell_type": "code",
   "execution_count": 38,
   "metadata": {
    "scrolled": true
   },
   "outputs": [
    {
     "data": {
      "image/png": "[encoded data removed]",
      "text/plain": [
       "<Figure size 432x288 with 1 Axes>"
      ]
     },
     "metadata": {
      "needs_background": "light"
     },
     "output_type": "display_data"
    }
   ],
   "source": [
    "# Persentasi Outliers milage Feature\n",
    "sns.boxplot(x='milage', data=data,showfliers=True);"
   ]
  },
  {
   "cell_type": "code",
   "execution_count": 39,
   "metadata": {},
   "outputs": [],
   "source": [
    "data = data[data['milage'] <= 150000]"
   ]
  },
  {
   "cell_type": "code",
   "execution_count": 40,
   "metadata": {},
   "outputs": [
    {
     "data": {
      "image/png": "[encoded data removed]",
      "text/plain": [
       "<Figure size 432x288 with 1 Axes>"
      ]
     },
     "metadata": {
      "needs_background": "light"
     },
     "output_type": "display_data"
    }
   ],
   "source": [
    "# Persentasi Outliers milage Feature\n",
    "sns.boxplot(x='milage', data=data,showfliers=True);"
   ]
  },
  {
   "cell_type": "code",
   "execution_count": 41,
   "metadata": {
    "scrolled": true
   },
   "outputs": [
    {
     "name": "stderr",
     "output_type": "stream",
     "text": [
      "C:\\Users\\tab\\anaconda3\\lib\\site-packages\\seaborn\\distributions.py:2551: FutureWarning: `distplot` is a deprecated function and will be removed in a future version. Please adapt your code to use either `displot` (a figure-level function with similar flexibility) or `histplot` (an axes-level function for histograms).\n",
      "  warnings.warn(msg, FutureWarning)\n"
     ]
    },
    {
     "data": {
      "text/plain": [
       "<matplotlib.axes._subplots.AxesSubplot at 0x1ad6dd370c8>"
      ]
     },
     "execution_count": 41,
     "metadata": {},
     "output_type": "execute_result"
    },
    {
     "data": {
      "image/png": "[encoded data removed]",
      "text/plain": [
       "<Figure size 432x288 with 1 Axes>"
      ]
     },
     "metadata": {
      "needs_background": "light"
     },
     "output_type": "display_data"
    }
   ],
   "source": [
    "sns.distplot(data.milage)"
   ]
  },
  {
   "cell_type": "code",
   "execution_count": 42,
   "metadata": {
    "scrolled": true
   },
   "outputs": [
    {
     "data": {
      "text/html": [
       "<div>\n",
       "<style scoped>\n",
       "    .dataframe tbody tr th:only-of-type {\n",
       "        vertical-align: middle;\n",
       "    }\n",
       "\n",
       "    .dataframe tbody tr th {\n",
       "        vertical-align: top;\n",
       "    }\n",
       "\n",
       "    .dataframe thead th {\n",
       "        text-align: right;\n",
       "    }\n",
       "</style>\n",
       "<table border=\"1\" class=\"dataframe\">\n",
       "  <thead>\n",
       "    <tr style=\"text-align: right;\">\n",
       "      <th></th>\n",
       "      <th>band</th>\n",
       "      <th>model</th>\n",
       "      <th>fuelType</th>\n",
       "      <th>bodytype</th>\n",
       "      <th>transmission</th>\n",
       "      <th>seating</th>\n",
       "      <th>year</th>\n",
       "      <th>milage</th>\n",
       "      <th>color</th>\n",
       "      <th>place</th>\n",
       "      <th>price</th>\n",
       "    </tr>\n",
       "  </thead>\n",
       "  <tbody>\n",
       "    <tr>\n",
       "      <th>0</th>\n",
       "      <td>Nissan</td>\n",
       "      <td>X-Trail</td>\n",
       "      <td>Pertamax</td>\n",
       "      <td>SUV</td>\n",
       "      <td>Manual</td>\n",
       "      <td>5</td>\n",
       "      <td>2010</td>\n",
       "      <td>250</td>\n",
       "      <td>Silver</td>\n",
       "      <td>Wonogiri</td>\n",
       "      <td>115000000</td>\n",
       "    </tr>\n",
       "    <tr>\n",
       "      <th>1</th>\n",
       "      <td>Mazda</td>\n",
       "      <td>2</td>\n",
       "      <td>Pertamax</td>\n",
       "      <td>Sedan</td>\n",
       "      <td>Manual</td>\n",
       "      <td>5</td>\n",
       "      <td>2012</td>\n",
       "      <td>67500</td>\n",
       "      <td>Hijau</td>\n",
       "      <td>Surabaya</td>\n",
       "      <td>105000000</td>\n",
       "    </tr>\n",
       "    <tr>\n",
       "      <th>4</th>\n",
       "      <td>Mercedes-Benz</td>\n",
       "      <td>C200K</td>\n",
       "      <td>Pertamax</td>\n",
       "      <td>Sedan</td>\n",
       "      <td>Automatic</td>\n",
       "      <td>5</td>\n",
       "      <td>2008</td>\n",
       "      <td>50000</td>\n",
       "      <td>Silver</td>\n",
       "      <td>Jakarta Utara</td>\n",
       "      <td>162000000</td>\n",
       "    </tr>\n",
       "    <tr>\n",
       "      <th>6</th>\n",
       "      <td>Chevrolet</td>\n",
       "      <td>Captiva</td>\n",
       "      <td>Solar</td>\n",
       "      <td>SUV</td>\n",
       "      <td>Automatic</td>\n",
       "      <td>7</td>\n",
       "      <td>2011</td>\n",
       "      <td>76000</td>\n",
       "      <td>Hitam</td>\n",
       "      <td>Tangerang</td>\n",
       "      <td>155000000</td>\n",
       "    </tr>\n",
       "    <tr>\n",
       "      <th>7</th>\n",
       "      <td>Toyota</td>\n",
       "      <td>Kijang Innova</td>\n",
       "      <td>Solar</td>\n",
       "      <td>MPV</td>\n",
       "      <td>Manual</td>\n",
       "      <td>8</td>\n",
       "      <td>2010</td>\n",
       "      <td>77500</td>\n",
       "      <td>Silver</td>\n",
       "      <td>Medan</td>\n",
       "      <td>188000000</td>\n",
       "    </tr>\n",
       "  </tbody>\n",
       "</table>\n",
       "</div>"
      ],
      "text/plain": [
       "            band          model  fuelType bodytype transmission  seating  \\\n",
       "0         Nissan        X-Trail  Pertamax      SUV       Manual        5   \n",
       "1          Mazda              2  Pertamax    Sedan       Manual        5   \n",
       "4  Mercedes-Benz          C200K  Pertamax    Sedan    Automatic        5   \n",
       "6      Chevrolet        Captiva     Solar      SUV    Automatic        7   \n",
       "7         Toyota  Kijang Innova     Solar      MPV       Manual        8   \n",
       "\n",
       "   year  milage   color          place      price  \n",
       "0  2010     250  Silver       Wonogiri  115000000  \n",
       "1  2012   67500   Hijau       Surabaya  105000000  \n",
       "4  2008   50000  Silver  Jakarta Utara  162000000  \n",
       "6  2011   76000   Hitam      Tangerang  155000000  \n",
       "7  2010   77500  Silver          Medan  188000000  "
      ]
     },
     "execution_count": 42,
     "metadata": {},
     "output_type": "execute_result"
    }
   ],
   "source": [
    "data.head(5)"
   ]
  },
  {
   "cell_type": "markdown",
   "metadata": {
    "scrolled": true
   },
   "source": [
    "# Feature engineering"
   ]
  },
  {
   "cell_type": "markdown",
   "metadata": {
    "scrolled": true
   },
   "source": [
    "## 1. Data Cleaning for null value"
   ]
  },
  {
   "cell_type": "code",
   "execution_count": 43,
   "metadata": {
    "scrolled": true
   },
   "outputs": [
    {
     "data": {
      "text/html": [
       "<div>\n",
       "<style scoped>\n",
       "    .dataframe tbody tr th:only-of-type {\n",
       "        vertical-align: middle;\n",
       "    }\n",
       "\n",
       "    .dataframe tbody tr th {\n",
       "        vertical-align: top;\n",
       "    }\n",
       "\n",
       "    .dataframe thead th {\n",
       "        text-align: right;\n",
       "    }\n",
       "</style>\n",
       "<table border=\"1\" class=\"dataframe\">\n",
       "  <thead>\n",
       "    <tr style=\"text-align: right;\">\n",
       "      <th></th>\n",
       "      <th>band</th>\n",
       "      <th>model</th>\n",
       "      <th>fuelType</th>\n",
       "      <th>bodytype</th>\n",
       "      <th>transmission</th>\n",
       "      <th>seating</th>\n",
       "      <th>year</th>\n",
       "      <th>milage</th>\n",
       "      <th>color</th>\n",
       "      <th>place</th>\n",
       "      <th>price</th>\n",
       "    </tr>\n",
       "  </thead>\n",
       "  <tbody>\n",
       "    <tr>\n",
       "      <th>0</th>\n",
       "      <td>False</td>\n",
       "      <td>False</td>\n",
       "      <td>False</td>\n",
       "      <td>False</td>\n",
       "      <td>False</td>\n",
       "      <td>False</td>\n",
       "      <td>False</td>\n",
       "      <td>False</td>\n",
       "      <td>False</td>\n",
       "      <td>False</td>\n",
       "      <td>False</td>\n",
       "    </tr>\n",
       "    <tr>\n",
       "      <th>1</th>\n",
       "      <td>False</td>\n",
       "      <td>False</td>\n",
       "      <td>False</td>\n",
       "      <td>False</td>\n",
       "      <td>False</td>\n",
       "      <td>False</td>\n",
       "      <td>False</td>\n",
       "      <td>False</td>\n",
       "      <td>False</td>\n",
       "      <td>False</td>\n",
       "      <td>False</td>\n",
       "    </tr>\n",
       "    <tr>\n",
       "      <th>4</th>\n",
       "      <td>False</td>\n",
       "      <td>False</td>\n",
       "      <td>False</td>\n",
       "      <td>False</td>\n",
       "      <td>False</td>\n",
       "      <td>False</td>\n",
       "      <td>False</td>\n",
       "      <td>False</td>\n",
       "      <td>False</td>\n",
       "      <td>False</td>\n",
       "      <td>False</td>\n",
       "    </tr>\n",
       "    <tr>\n",
       "      <th>6</th>\n",
       "      <td>False</td>\n",
       "      <td>False</td>\n",
       "      <td>False</td>\n",
       "      <td>False</td>\n",
       "      <td>False</td>\n",
       "      <td>False</td>\n",
       "      <td>False</td>\n",
       "      <td>False</td>\n",
       "      <td>False</td>\n",
       "      <td>False</td>\n",
       "      <td>False</td>\n",
       "    </tr>\n",
       "    <tr>\n",
       "      <th>7</th>\n",
       "      <td>False</td>\n",
       "      <td>False</td>\n",
       "      <td>False</td>\n",
       "      <td>False</td>\n",
       "      <td>False</td>\n",
       "      <td>False</td>\n",
       "      <td>False</td>\n",
       "      <td>False</td>\n",
       "      <td>False</td>\n",
       "      <td>False</td>\n",
       "      <td>False</td>\n",
       "    </tr>\n",
       "    <tr>\n",
       "      <th>...</th>\n",
       "      <td>...</td>\n",
       "      <td>...</td>\n",
       "      <td>...</td>\n",
       "      <td>...</td>\n",
       "      <td>...</td>\n",
       "      <td>...</td>\n",
       "      <td>...</td>\n",
       "      <td>...</td>\n",
       "      <td>...</td>\n",
       "      <td>...</td>\n",
       "      <td>...</td>\n",
       "    </tr>\n",
       "    <tr>\n",
       "      <th>89579</th>\n",
       "      <td>False</td>\n",
       "      <td>False</td>\n",
       "      <td>False</td>\n",
       "      <td>False</td>\n",
       "      <td>False</td>\n",
       "      <td>False</td>\n",
       "      <td>False</td>\n",
       "      <td>False</td>\n",
       "      <td>False</td>\n",
       "      <td>False</td>\n",
       "      <td>False</td>\n",
       "    </tr>\n",
       "    <tr>\n",
       "      <th>89580</th>\n",
       "      <td>False</td>\n",
       "      <td>False</td>\n",
       "      <td>False</td>\n",
       "      <td>False</td>\n",
       "      <td>False</td>\n",
       "      <td>False</td>\n",
       "      <td>False</td>\n",
       "      <td>False</td>\n",
       "      <td>False</td>\n",
       "      <td>False</td>\n",
       "      <td>False</td>\n",
       "    </tr>\n",
       "    <tr>\n",
       "      <th>89582</th>\n",
       "      <td>False</td>\n",
       "      <td>False</td>\n",
       "      <td>False</td>\n",
       "      <td>False</td>\n",
       "      <td>False</td>\n",
       "      <td>False</td>\n",
       "      <td>False</td>\n",
       "      <td>False</td>\n",
       "      <td>False</td>\n",
       "      <td>False</td>\n",
       "      <td>False</td>\n",
       "    </tr>\n",
       "    <tr>\n",
       "      <th>89583</th>\n",
       "      <td>False</td>\n",
       "      <td>False</td>\n",
       "      <td>False</td>\n",
       "      <td>False</td>\n",
       "      <td>False</td>\n",
       "      <td>False</td>\n",
       "      <td>False</td>\n",
       "      <td>False</td>\n",
       "      <td>False</td>\n",
       "      <td>False</td>\n",
       "      <td>False</td>\n",
       "    </tr>\n",
       "    <tr>\n",
       "      <th>89584</th>\n",
       "      <td>False</td>\n",
       "      <td>False</td>\n",
       "      <td>False</td>\n",
       "      <td>False</td>\n",
       "      <td>False</td>\n",
       "      <td>False</td>\n",
       "      <td>False</td>\n",
       "      <td>False</td>\n",
       "      <td>False</td>\n",
       "      <td>False</td>\n",
       "      <td>False</td>\n",
       "    </tr>\n",
       "  </tbody>\n",
       "</table>\n",
       "<p>65505 rows × 11 columns</p>\n",
       "</div>"
      ],
      "text/plain": [
       "        band  model  fuelType  bodytype  transmission  seating   year  milage  \\\n",
       "0      False  False     False     False         False    False  False   False   \n",
       "1      False  False     False     False         False    False  False   False   \n",
       "4      False  False     False     False         False    False  False   False   \n",
       "6      False  False     False     False         False    False  False   False   \n",
       "7      False  False     False     False         False    False  False   False   \n",
       "...      ...    ...       ...       ...           ...      ...    ...     ...   \n",
       "89579  False  False     False     False         False    False  False   False   \n",
       "89580  False  False     False     False         False    False  False   False   \n",
       "89582  False  False     False     False         False    False  False   False   \n",
       "89583  False  False     False     False         False    False  False   False   \n",
       "89584  False  False     False     False         False    False  False   False   \n",
       "\n",
       "       color  place  price  \n",
       "0      False  False  False  \n",
       "1      False  False  False  \n",
       "4      False  False  False  \n",
       "6      False  False  False  \n",
       "7      False  False  False  \n",
       "...      ...    ...    ...  \n",
       "89579  False  False  False  \n",
       "89580  False  False  False  \n",
       "89582  False  False  False  \n",
       "89583  False  False  False  \n",
       "89584  False  False  False  \n",
       "\n",
       "[65505 rows x 11 columns]"
      ]
     },
     "execution_count": 43,
     "metadata": {},
     "output_type": "execute_result"
    }
   ],
   "source": [
    "data.isnull()"
   ]
  },
  {
   "cell_type": "code",
   "execution_count": 44,
   "metadata": {},
   "outputs": [],
   "source": [
    "data.dropna(inplace=True)"
   ]
  },
  {
   "cell_type": "markdown",
   "metadata": {},
   "source": [
    "# 2. Encoding Categorical Data"
   ]
  },
  {
   "cell_type": "code",
   "execution_count": 45,
   "metadata": {
    "scrolled": false
   },
   "outputs": [
    {
     "data": {
      "text/html": [
       "<div>\n",
       "<style scoped>\n",
       "    .dataframe tbody tr th:only-of-type {\n",
       "        vertical-align: middle;\n",
       "    }\n",
       "\n",
       "    .dataframe tbody tr th {\n",
       "        vertical-align: top;\n",
       "    }\n",
       "\n",
       "    .dataframe thead th {\n",
       "        text-align: right;\n",
       "    }\n",
       "</style>\n",
       "<table border=\"1\" class=\"dataframe\">\n",
       "  <thead>\n",
       "    <tr style=\"text-align: right;\">\n",
       "      <th></th>\n",
       "      <th>column</th>\n",
       "      <th>dtype</th>\n",
       "      <th>NumbOfNull</th>\n",
       "      <th>NullPercent</th>\n",
       "      <th>NUnique</th>\n",
       "    </tr>\n",
       "  </thead>\n",
       "  <tbody>\n",
       "    <tr>\n",
       "      <th>0</th>\n",
       "      <td>band</td>\n",
       "      <td>object</td>\n",
       "      <td>0</td>\n",
       "      <td>0.0</td>\n",
       "      <td>35</td>\n",
       "    </tr>\n",
       "    <tr>\n",
       "      <th>1</th>\n",
       "      <td>model</td>\n",
       "      <td>object</td>\n",
       "      <td>0</td>\n",
       "      <td>0.0</td>\n",
       "      <td>265</td>\n",
       "    </tr>\n",
       "    <tr>\n",
       "      <th>2</th>\n",
       "      <td>fuelType</td>\n",
       "      <td>object</td>\n",
       "      <td>0</td>\n",
       "      <td>0.0</td>\n",
       "      <td>6</td>\n",
       "    </tr>\n",
       "    <tr>\n",
       "      <th>3</th>\n",
       "      <td>bodytype</td>\n",
       "      <td>object</td>\n",
       "      <td>0</td>\n",
       "      <td>0.0</td>\n",
       "      <td>18</td>\n",
       "    </tr>\n",
       "    <tr>\n",
       "      <th>4</th>\n",
       "      <td>transmission</td>\n",
       "      <td>object</td>\n",
       "      <td>0</td>\n",
       "      <td>0.0</td>\n",
       "      <td>2</td>\n",
       "    </tr>\n",
       "    <tr>\n",
       "      <th>5</th>\n",
       "      <td>seating</td>\n",
       "      <td>int32</td>\n",
       "      <td>0</td>\n",
       "      <td>0.0</td>\n",
       "      <td>9</td>\n",
       "    </tr>\n",
       "    <tr>\n",
       "      <th>6</th>\n",
       "      <td>year</td>\n",
       "      <td>int64</td>\n",
       "      <td>0</td>\n",
       "      <td>0.0</td>\n",
       "      <td>15</td>\n",
       "    </tr>\n",
       "    <tr>\n",
       "      <th>7</th>\n",
       "      <td>milage</td>\n",
       "      <td>int32</td>\n",
       "      <td>0</td>\n",
       "      <td>0.0</td>\n",
       "      <td>2662</td>\n",
       "    </tr>\n",
       "    <tr>\n",
       "      <th>8</th>\n",
       "      <td>color</td>\n",
       "      <td>object</td>\n",
       "      <td>0</td>\n",
       "      <td>0.0</td>\n",
       "      <td>14</td>\n",
       "    </tr>\n",
       "    <tr>\n",
       "      <th>9</th>\n",
       "      <td>place</td>\n",
       "      <td>object</td>\n",
       "      <td>0</td>\n",
       "      <td>0.0</td>\n",
       "      <td>194</td>\n",
       "    </tr>\n",
       "    <tr>\n",
       "      <th>10</th>\n",
       "      <td>price</td>\n",
       "      <td>int64</td>\n",
       "      <td>0</td>\n",
       "      <td>0.0</td>\n",
       "      <td>1013</td>\n",
       "    </tr>\n",
       "  </tbody>\n",
       "</table>\n",
       "</div>"
      ],
      "text/plain": [
       "          column   dtype  NumbOfNull  NullPercent  NUnique\n",
       "0           band  object           0          0.0       35\n",
       "1          model  object           0          0.0      265\n",
       "2       fuelType  object           0          0.0        6\n",
       "3       bodytype  object           0          0.0       18\n",
       "4   transmission  object           0          0.0        2\n",
       "5        seating   int32           0          0.0        9\n",
       "6           year   int64           0          0.0       15\n",
       "7         milage   int32           0          0.0     2662\n",
       "8          color  object           0          0.0       14\n",
       "9          place  object           0          0.0      194\n",
       "10         price   int64           0          0.0     1013"
      ]
     },
     "execution_count": 45,
     "metadata": {},
     "output_type": "execute_result"
    }
   ],
   "source": [
    "list_item = []\n",
    "for col in data.columns:\n",
    "    list_item.append([col, data[col].dtype, data[col].isna().sum(), round((data[col].isna().sum()/len(data[col]))*100,2),\n",
    "                      data[col].nunique()])\n",
    "desc = pd.DataFrame(columns=['column', 'dtype', 'NumbOfNull', 'NullPercent', 'NUnique'],data=list_item)\n",
    "\n",
    "desc"
   ]
  },
  {
   "cell_type": "markdown",
   "metadata": {},
   "source": [
    "We can see that car's models have 285 unique values, car's band have 37 unique values this value. This unique values is too large to be modeled as a one-hot encoded, because The matrix model would be so large and take long computation especially for tree-based model. The problem with label encoder is label encoder would give ordinal attribute even if the data is non-ordinal especially for linear model.To overcome this problem we would using label encoder but also together with mix-max scaling to minimize the label so, the ordinal difference would'nt be so much differences that the model wouldn't be so much affected."
   ]
  },
  {
   "cell_type": "code",
   "execution_count": 46,
   "metadata": {},
   "outputs": [],
   "source": [
    "data_ohe = data\n",
    "data_le = data\n",
    "data_inf = data\n",
    "data_ohe = data"
   ]
  },
  {
   "cell_type": "code",
   "execution_count": 47,
   "metadata": {},
   "outputs": [],
   "source": [
    "data.to_csv('data.csv')"
   ]
  },
  {
   "cell_type": "markdown",
   "metadata": {},
   "source": [
    "# Label Encoder"
   ]
  },
  {
   "cell_type": "code",
   "execution_count": 48,
   "metadata": {},
   "outputs": [],
   "source": [
    "le = preprocessing.LabelEncoder()\n"
   ]
  },
  {
   "cell_type": "code",
   "execution_count": 49,
   "metadata": {},
   "outputs": [],
   "source": [
    "trans = data_le[['band', 'model', 'fuelType', 'bodytype','transmission', 'color', 'place']]\n",
    "\n",
    "le.fit(trans['band'])\n",
    "data_le['band'] = le.transform(trans['band'])\n",
    "np.save('band.npy', le.classes_)\n",
    "\n",
    "le.fit(trans['model'])\n",
    "data_le['model'] = le.transform(trans['model'])\n",
    "np.save('model.npy', le.classes_)\n",
    "\n",
    "\n",
    "le.fit(trans['fuelType'])\n",
    "data_le['fuelType'] = le.transform(trans['fuelType'])\n",
    "np.save('fuelType.npy', le.classes_)\n",
    "\n",
    "\n",
    "le.fit(trans['bodytype'])\n",
    "data_le['bodytype'] = le.transform(trans['bodytype'])\n",
    "np.save('bodytype.npy', le.classes_)\n",
    "\n",
    "le.fit(trans['transmission'])\n",
    "data_le['transmission'] = le.transform(trans['transmission'])\n",
    "np.save('transmission.npy', le.classes_)\n",
    "\n",
    "\n",
    "le.fit(trans['color'])\n",
    "data_le['color'] = le.transform(trans['color'])\n",
    "np.save('color.npy', le.classes_)\n",
    "\n",
    "                           \n",
    "le.fit(trans['place'])\n",
    "data_le['place'] = le.transform(trans['place'])\n",
    "np.save('place.npy', le.classes_)"
   ]
  },
  {
   "cell_type": "markdown",
   "metadata": {},
   "source": [
    "# Export CSV file"
   ]
  },
  {
   "cell_type": "code",
   "execution_count": 51,
   "metadata": {},
   "outputs": [],
   "source": [
    "data_le.to_csv('data_le.csv')"
   ]
  }
 ],
 "metadata": {
  "kernelspec": {
   "display_name": "Python 3",
   "language": "python",
   "name": "python3"
  },
  "language_info": {
   "codemirror_mode": {
    "name": "ipython",
    "version": 3
   },
   "file_extension": ".py",
   "mimetype": "text/x-python",
   "name": "python",
   "nbconvert_exporter": "python",
   "pygments_lexer": "ipython3",
   "version": "3.7.6"
  }
 },
 "nbformat": 4,
 "nbformat_minor": 4
}
